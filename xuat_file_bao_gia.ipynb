{
  "nbformat": 4,
  "nbformat_minor": 0,
  "metadata": {
    "colab": {
      "name": "xuat_file_bao_gia.ipynb",
      "provenance": [],
      "authorship_tag": "ABX9TyO+OtmnrppfeCJY1NtUGXO9",
      "include_colab_link": true
    },
    "kernelspec": {
      "name": "python3",
      "display_name": "Python 3"
    },
    "language_info": {
      "name": "python"
    }
  },
  "cells": [
    {
      "cell_type": "markdown",
      "metadata": {
        "id": "view-in-github",
        "colab_type": "text"
      },
      "source": [
        "<a href=\"https://colab.research.google.com/github/nuvita97/project-quotation/blob/main/xuat_file_bao_gia.ipynb\" target=\"_parent\"><img src=\"https://colab.research.google.com/assets/colab-badge.svg\" alt=\"Open In Colab\"/></a>"
      ]
    },
    {
      "cell_type": "code",
      "metadata": {
        "id": "YCjDV4udx1N4"
      },
      "source": [
        "!git clone https://github.com/nuvita97/project-quotation\n",
        "\n",
        "%run project-quotation/export_pq.ipynb"
      ],
      "execution_count": null,
      "outputs": []
    }
  ]
}